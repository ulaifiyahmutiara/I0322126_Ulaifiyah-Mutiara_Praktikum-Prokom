{
 "cells": [
  {
   "cell_type": "code",
   "execution_count": 1,
   "metadata": {},
   "outputs": [
    {
     "name": "stdout",
     "output_type": "stream",
     "text": [
      "Ulaifiyah Mutiara\n",
      "I0322126\n",
      "D\n"
     ]
    }
   ],
   "source": [
    "print(input(\"Nama: \"))\n",
    "print(input(\"NIM: \"))\n",
    "print(input(\"Kelas: \"))"
   ]
  },
  {
   "attachments": {},
   "cell_type": "markdown",
   "metadata": {},
   "source": [
    "## 1."
   ]
  },
  {
   "attachments": {},
   "cell_type": "markdown",
   "metadata": {},
   "source": [
    "Buatlah program yang menampilkan salam “Selamat Pagi” dari berbagai negara {Inggris, Perancis, Italia, Spanyol, Jepang, Korea} dengan dua input dari user yaitu bahasa dan diikuti nama user.<br>\n",
    "<br>Ex : \n",
    "<br>\"Ohayou, Onii Chan\"\n",
    "> *note: Kerjakan soal ini dengan percabangan*"
   ]
  },
  {
   "cell_type": "code",
   "execution_count": 9,
   "metadata": {},
   "outputs": [
    {
     "name": "stdout",
     "output_type": "stream",
     "text": [
      " Buenos días , tita \n"
     ]
    }
   ],
   "source": [
    "# Kerjakan soal nomor 1 disini\n",
    "Inggris = 'Good Morning'\n",
    "Perancis = 'Boniour'\n",
    "italia = 'Buongiorno'\n",
    "Spanyol = 'Buenos días'\n",
    "Jepang = 'ohayou gozaimasu'\n",
    "Korea = 'joheun achimimnida'\n",
    "\n",
    "Bahasa = str(input (\"Bahasa apa yang ingin anda coba dalam mengucapkan selamat pagi? tersedia dalam bahasa Inggris, Perancis, Italia, Spanyol, Jepang, dan Korea. Bisa dipilih salah satunya.\") )\n",
    "Nama = str(input (\"Siapa nama anda?\"))\n",
    "\n",
    "if (Bahasa.capitalize()=='Inggris'):\n",
    "    print (f' (Inggris), (Nama)')\n",
    "\n",
    "elif (Bahasa.capitalize()== 'Perancis'):\n",
    "    print (f'{Perancis} , {Nama}')\n",
    "elif (Bahasa.capitalize()== 'Italia'):\n",
    "    print (f' {Italia} , {Nama} ')\n",
    "elif (Bahasa.capitalize()== 'Spanyol'):\n",
    "    print (F' {Spanyol} , {Nama} ')\n",
    "elif (Bahasa.capitalize()== 'Jepang'):\n",
    "    print (f' {Jepang} , {Nama} ')\n",
    "elif (Bahasa.capitalize ()== 'Korea'):\n",
    "    print (f' {Korea}, {Nama} ')\n",
    "\n",
    "else:\n",
    "    print(\"Maaf Bahasa Tidak Tersedia\")\n"
   ]
  },
  {
   "attachments": {},
   "cell_type": "markdown",
   "metadata": {},
   "source": [
    "## 2."
   ]
  },
  {
   "attachments": {},
   "cell_type": "markdown",
   "metadata": {},
   "source": [
    "Buatlah program perhitungan umur dengan menggunakan input user yaitu tahun lahir dari user.<br>\n",
    "<br>Output yang dihasilkan adalah sebagai berikut:\n",
    "<br>\"Apakah anda berasal dari masa depan?\"\n",
    "<br>\"Anda barusaja lahir\"\n",
    "<br>\"Umur Anda adalah xx tahun\"\n",
    "> *note: Kerjakan soal ini dengan percabangan*"
   ]
  },
  {
   "cell_type": "code",
   "execution_count": 11,
   "metadata": {},
   "outputs": [
    {
     "name": "stdout",
     "output_type": "stream",
     "text": [
      "Umur anda adalah 20 tahun\n"
     ]
    }
   ],
   "source": [
    "# Kerjakan soal nomor 2 disini\n",
    "\n",
    "tahun = int(input('masukkan tahun lahir anda = '))\n",
    "\n",
    "if (tahun > 2023):\n",
    "    print('apakah anda berasal dari masa depan?')\n",
    "elif (tahun == 2023):\n",
    "    print('Anda baru saja lahir')\n",
    "else:\n",
    "    print(f'Umur anda adalah {2023-tahun} tahun' )"
   ]
  }
 ],
 "metadata": {
  "kernelspec": {
   "display_name": "Python 3",
   "language": "python",
   "name": "python3"
  },
  "language_info": {
   "codemirror_mode": {
    "name": "ipython",
    "version": 3
   },
   "file_extension": ".py",
   "mimetype": "text/x-python",
   "name": "python",
   "nbconvert_exporter": "python",
   "pygments_lexer": "ipython3",
   "version": "3.10.8"
  },
  "orig_nbformat": 4
 },
 "nbformat": 4,
 "nbformat_minor": 2
}
