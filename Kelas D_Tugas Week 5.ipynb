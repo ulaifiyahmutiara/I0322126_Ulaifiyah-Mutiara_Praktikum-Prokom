{
 "cells": [
  {
   "attachments": {},
   "cell_type": "markdown",
   "metadata": {},
   "source": [
    "1. Buatlah program pemanggilan angka secara descending menggunakan pengulangan dari angka 50 hingga 0!"
   ]
  },
  {
   "cell_type": "code",
   "execution_count": 1,
   "metadata": {},
   "outputs": [],
   "source": [
    "# kerjakan nomor 1 di sini\n",
    "\n",
    "for i in range (50, -1, 1):\n",
    "    print(i)"
   ]
  },
  {
   "attachments": {},
   "cell_type": "markdown",
   "metadata": {},
   "source": [
    "2. Buatlah sebuah list yang berisi kota-kota yang ada di indonesia (minimal 10, salah satunya kota asal kalian), kemudian buat pengulangan yang menampilkan isi-isi dalam list tersebut, jika salah satu kota menunjukkan kota asal kalian maka tambahkan output \"kota X adalah kampung halaman saya\" (program tetap lanjut)"
   ]
  },
  {
   "cell_type": "code",
   "execution_count": 3,
   "metadata": {},
   "outputs": [
    {
     "name": "stdout",
     "output_type": "stream",
     "text": [
      "kota tangerang adalah kampung halaman saya\n",
      "kota jakarta berada di pulau jawa\n",
      "kota bandung berada di pulau jawa\n",
      "kota solo berada di pulau jawa\n",
      "kota kediri berada di pulau jawa\n",
      "kota bogor berada di pulau jawa\n",
      "kota bekasi berada di pulau jawa\n",
      "kota surabaya berada di pulau jawa\n",
      "kota bekasi berada di pulau jawa\n",
      "kota semarang berada di pulau jawa\n"
     ]
    }
   ],
   "source": [
    "# Kerjakan nomor 2 di sini\n",
    "kota_kota = ['tangerang', 'jakarta', 'bandung', 'solo', 'kediri', 'bogor', 'bekasi', 'surabaya', 'bekasi', 'semarang']\n",
    "\n",
    "for kota in kota_kota:\n",
    "    if kota == 'tangerang':\n",
    "        print(f'kota', format(kota_kota[0]),'adalah kampung halaman saya')\n",
    "        continue\n",
    "    print(f'kota {kota} berada di pulau jawa')\n"
   ]
  },
  {
   "attachments": {},
   "cell_type": "markdown",
   "metadata": {},
   "source": [
    "3. Disajikan list sebagai berikut"
   ]
  },
  {
   "cell_type": "code",
   "execution_count": null,
   "metadata": {},
   "outputs": [],
   "source": [
    "hari = ['senin', 'selasa','rabu','kamis','jumat','sabtu', 'minggu']\n",
    "menu_sahur = ['soto','pecel lele', 'ayam goreng', 'sayur sop', 'rendang','telur balado']"
   ]
  },
  {
   "attachments": {},
   "cell_type": "markdown",
   "metadata": {},
   "source": [
    "Abdul adalah seorang mahasiswa semester 2. Selama satu minggu ia membuat daftar menu sahur yang dia makan selama seminggu yang lalu. dengan catatan hari kamis Abdul ketiduran sehingga dia tidak sahur. Berdasarkan kasus tersebut buatlah program pengulangannya!"
   ]
  },
  {
   "cell_type": "code",
   "execution_count": 5,
   "metadata": {},
   "outputs": [
    {
     "name": "stdout",
     "output_type": "stream",
     "text": [
      "\n",
      "menu sahur abdul\n",
      "senin : soto\n",
      "\n",
      "menu sahur abdul\n",
      "selasa : pecel lele\n",
      "\n",
      "menu sahur abdul\n",
      "rabu : ayam goreng\n",
      "\n",
      "menu sahur abdul\n",
      "kamis : abdul ketiduran sehingga tidak sahur\n",
      "\n",
      "menu sahur abdul\n",
      "jumat : sayur sop\n",
      "\n",
      "menu sahur abdul\n",
      "sabtu : rendang\n",
      "\n",
      "menu sahur abdul\n",
      "minggu : telur balado\n"
     ]
    }
   ],
   "source": [
    "# kerjakan nomor 3 di sini\n",
    "\n",
    "hari = ['senin', 'selasa', 'rabu', 'kamis','jumat', 'sabtu', 'minggu']\n",
    "menu_sahur =  ['soto','pecel lele', 'ayam goreng', 'sayur sop', 'rendang','telur balado']\n",
    "\n",
    "#kamis ketiduran\n",
    "menu_sahur.insert(3, 'abdul ketiduran sehingga tidak sahur')\n",
    "for i in range (len(hari)):\n",
    "    print(f'''\n",
    "menu sahur abdul\n",
    "{hari[i]} : {menu_sahur[i]}''')"
   ]
  }
 ],
 "metadata": {
  "kernelspec": {
   "display_name": "Python 3",
   "language": "python",
   "name": "python3"
  },
  "language_info": {
   "codemirror_mode": {
    "name": "ipython",
    "version": 3
   },
   "file_extension": ".py",
   "mimetype": "text/x-python",
   "name": "python",
   "nbconvert_exporter": "python",
   "pygments_lexer": "ipython3",
   "version": "3.10.8"
  },
  "orig_nbformat": 4
 },
 "nbformat": 4,
 "nbformat_minor": 2
}
